{
 "cells": [
  {
   "cell_type": "code",
   "execution_count": 42,
   "metadata": {},
   "outputs": [],
   "source": [
    "from sklearn.metrics import f1_score\n",
    "import scipy.sparse as sp\n",
    "from scipy.stats import entropy\n",
    "from sklearn.metrics.pairwise import cosine_similarity\n",
    "import numpy as np\n",
    "import pickle\n",
    "import matplotlib.pyplot as plt\n",
    "\n",
    "\n",
    "\n",
    "from sklearn.datasets import fetch_20newsgroups_vectorized\n",
    "from sklearn.model_selection import train_test_split\n",
    "from sklearn.linear_model import LogisticRegression"
   ]
  },
  {
   "cell_type": "code",
   "execution_count": 43,
   "metadata": {},
   "outputs": [
    {
     "name": "stderr",
     "output_type": "stream",
     "text": [
      "C:\\Users\\hakki.arkangil\\Anaconda3\\lib\\site-packages\\sklearn\\utils\\validation.py:68: FutureWarning: Pass subset=all as keyword args. From version 0.25 passing these as positional arguments will result in an error\n",
      "  warnings.warn(\"Pass {} as keyword args. From version 0.25 \"\n"
     ]
    }
   ],
   "source": [
    "rand_state = 51\n",
    "batch = 100\n",
    "\n",
    "X, y = fetch_20newsgroups_vectorized('all', return_X_y=True, normalize=True)"
   ]
  },
  {
   "cell_type": "code",
   "execution_count": 44,
   "metadata": {},
   "outputs": [],
   "source": [
    "X_train, X_test, y_train, y_test = train_test_split(X, y, random_state=rand_state, stratify=y, test_size=0.1)\n"
   ]
  },
  {
   "cell_type": "code",
   "execution_count": 45,
   "metadata": {},
   "outputs": [],
   "source": [
    "X_train_rest, X_train_initial, y_train_rest, y_train_initial = train_test_split(X_train, y_train, random_state=rand_state, stratify=y_train, test_size=0.025/0.9)\n"
   ]
  },
  {
   "cell_type": "code",
   "execution_count": 46,
   "metadata": {},
   "outputs": [],
   "source": [
    "def active_training_similarity(X_init, y_init, X_rest, y_rest, model, sim_array_init, batch_size=100):\n",
    "    scores = []\n",
    "    train_size = []\n",
    "\n",
    "    np.set_printoptions(threshold=100)\n",
    "\n",
    "    model.fit(X_init, y_init)\n",
    "    y_pred = model.predict(X_test)\n",
    "\n",
    "    scores.append(f1_score(y_test, y_pred, average='weighted'))\n",
    "    train_size.append(X_init.shape[0])\n",
    "    count = 0\n",
    "    \n",
    "    for i in range(20):\n",
    "    #while X_rest.shape[0] > 0:\n",
    "        #print(sim_array_init)\n",
    "        \n",
    "        similarities = [(cosine_similarity(X_rest.getrow(i).toarray(), np.reshape(sim_array_init, (-1,len(sim_array_init))))[0][0], i) for i in range(X_rest.shape[0])]\n",
    "\n",
    "        similarities.sort(key=lambda x: x[0], reverse=True)\n",
    "\n",
    "        #print(similarities)\n",
    "\n",
    "        size = batch_size if X_rest.shape[0] >= batch_size else X_rest.shape[0]\n",
    "        #cut_list = list(range(size))\n",
    "\n",
    "        cut_list = [x[1] for x in similarities[0:size]]\n",
    "\n",
    "        cut_set = set(cut_list)\n",
    "\n",
    "        #rest_list = list(range(size, X_rest.shape[0]))\n",
    "\n",
    "        rest_list = list(range(X_rest.shape[0]))\n",
    "\n",
    "        rest_list = [x for x in rest_list if x not in cut_set]\n",
    "\n",
    "        add_x = X_rest[cut_list, :]\n",
    "\n",
    "        add_sim = np.mean(add_x.toarray(), axis=0)\n",
    "\n",
    "        #add_sum = np.sum(add_x.toarray(), axis=0)\n",
    "        #add_sim = add_sum / np.sqrt(np.sum(add_sum ** 2))\n",
    "\n",
    "        stack_sim_arr = np.stack((sim_array_init, add_sim))\n",
    "\n",
    "        sim_array_init = np.average(stack_sim_arr, axis=0, weights=[X_init.shape[0], add_x.shape[0]])\n",
    "\n",
    "        #sim_array_init = sim_array_init / np.sqrt(np.sum(sim_array_init ** 2)) #extra\n",
    "\n",
    "        #add_y = y_rest[0:size]\n",
    "        add_y = [y_rest[i] for i in cut_list]\n",
    "        X_rest = X_rest[rest_list, :]\n",
    "        #y_rest = y_rest[size:]\n",
    "        y_rest = [y_rest[i] for i in rest_list]\n",
    "        X_init = sp.vstack((X_init, add_x))\n",
    "        y_init = np.concatenate((y_init, add_y))\n",
    "\n",
    "        model.fit(X_init, y_init)\n",
    "        y_pred = model.predict(X_test)\n",
    "\n",
    "\n",
    "        scores.append(f1_score(y_test, y_pred, average='weighted'))\n",
    "        train_size.append(X_init.shape[0])\n",
    "        print(train_size)\n",
    "        print(\"iterasyon: \"+ str(count+1) + \" \" + \" basarim : \"+ str(scores[count]))\n",
    "        count += 1\n",
    "    return scores, train_size\n",
    "\n",
    "def active_training(X_init, y_init, X_rest, y_rest, model, batch_size=100):\n",
    "    scores = []\n",
    "    train_size = []\n",
    "\n",
    "    model.fit(X_init, y_init)\n",
    "    y_pred = model.predict(X_test)\n",
    "\n",
    "    scores.append(f1_score(y_test, y_pred, average='weighted'))\n",
    "    train_size.append(X_init.shape[0])\n",
    "    count = 0\n",
    "    \n",
    "    for i in range(20):\n",
    "    #while X_rest.shape[0] > 0:\n",
    "\n",
    "        probs = model.predict_proba(X_rest)\n",
    "\n",
    "        entropies = [(entropy(x), i) for i, x in enumerate(probs)]\n",
    "\n",
    "\n",
    "        size = batch_size if X_rest.shape[0] >= batch_size else X_rest.shape[0]\n",
    "        #cut_list = list(range(size))\n",
    "\n",
    "        cut_list = [x[1] for x in entropies[0:size]]\n",
    "\n",
    "        cut_set = set(cut_list)\n",
    "\n",
    "        #rest_list = list(range(size, X_rest.shape[0]))\n",
    "\n",
    "        rest_list = list(range(X_rest.shape[0]))\n",
    "\n",
    "        rest_list = [x for x in rest_list if x not in cut_set]\n",
    "\n",
    "        add_x = X_rest[cut_list, :]\n",
    "        #add_y = y_rest[0:size]\n",
    "        add_y = [y_rest[i] for i in cut_list]\n",
    "        X_rest = X_rest[rest_list, :]\n",
    "        #y_rest = y_rest[size:]\n",
    "        y_rest = [y_rest[i] for i in rest_list]\n",
    "        X_init = sp.vstack((X_init, add_x))\n",
    "        y_init = np.concatenate((y_init, add_y))\n",
    "\n",
    "        model.fit(X_init, y_init)\n",
    "        y_pred = model.predict(X_test)\n",
    "\n",
    "\n",
    "        scores.append(f1_score(y_test, y_pred, average='weighted'))\n",
    "        train_size.append(X_init.shape[0])\n",
    "        print(train_size)\n",
    "        print(\"iterasyon: \"+ str(count+1) + \" \" + \" basarim : \"+ str(scores[count]))\n",
    "        count += 1\n",
    "    return scores, train_size\n",
    "\n",
    "\n",
    "def standard_training(X_init, y_init, X_rest, y_rest, model, batch_size=100):\n",
    "    #select\n",
    "\n",
    "    scores = []\n",
    "    train_size = []\n",
    "\n",
    "    model.fit(X_init, y_init)\n",
    "    y_pred = model.predict(X_test)\n",
    "\n",
    "    scores.append(f1_score(y_test, y_pred, average='weighted'))\n",
    "    train_size.append(X_init.shape[0])\n",
    "    count=0\n",
    "    \n",
    "    for i in range(20):\n",
    "    #while X_rest.shape[0] > 0:\n",
    "        size = batch_size if X_rest.shape[0] >= batch_size else X_rest.shape[0]\n",
    "        cut_list = list(range(size))\n",
    "        rest_list = list(range(size, X_rest.shape[0]))\n",
    "        add_x = X_rest[cut_list,:]\n",
    "        add_y = y_rest[0:size]\n",
    "        X_rest = X_rest[rest_list,:]\n",
    "        y_rest = y_rest[size:]\n",
    "        X_init = sp.vstack((X_init, add_x))\n",
    "        y_init = np.concatenate((y_init, add_y))\n",
    "\n",
    "        model.fit(X_init, y_init)\n",
    "        y_pred = model.predict(X_test)\n",
    "\n",
    "        scores.append(f1_score(y_test, y_pred, average='weighted'))\n",
    "        train_size.append(X_init.shape[0])\n",
    "        print(train_size)\n",
    "        print(\"iterasyon: \"+ str(count+1) + \" \" + \" basarim : \"+ str(scores[count]))\n",
    "        count += 1\n",
    "\n",
    "    return scores, train_size\n",
    "\n",
    "\n",
    "\n",
    "\n",
    "\n",
    "\n",
    "\n",
    "\n"
   ]
  },
  {
   "cell_type": "code",
   "execution_count": 47,
   "metadata": {},
   "outputs": [],
   "source": [
    "lr = LogisticRegression(solver='sag',\n",
    "                                multi_class='multinomial',\n",
    "                                penalty='l2',\n",
    "                                tol=0.005,\n",
    "                                max_iter=10,\n",
    "                                random_state=42,\n",
    "                                C=5,\n",
    "                                warm_start=True\n",
    "                                )"
   ]
  },
  {
   "cell_type": "code",
   "execution_count": 48,
   "metadata": {},
   "outputs": [
    {
     "name": "stderr",
     "output_type": "stream",
     "text": [
      "C:\\Users\\hakki.arkangil\\Anaconda3\\lib\\site-packages\\sklearn\\linear_model\\_sag.py:329: ConvergenceWarning: The max_iter was reached which means the coef_ did not converge\n",
      "  warnings.warn(\"The max_iter was reached which means \"\n",
      "C:\\Users\\hakki.arkangil\\Anaconda3\\lib\\site-packages\\sklearn\\linear_model\\_sag.py:329: ConvergenceWarning: The max_iter was reached which means the coef_ did not converge\n",
      "  warnings.warn(\"The max_iter was reached which means \"\n"
     ]
    },
    {
     "name": "stdout",
     "output_type": "stream",
     "text": [
      "[472, 572]\n",
      "iterasyon: 1  basarim : 0.4244019996026788\n"
     ]
    },
    {
     "name": "stderr",
     "output_type": "stream",
     "text": [
      "C:\\Users\\hakki.arkangil\\Anaconda3\\lib\\site-packages\\sklearn\\linear_model\\_sag.py:329: ConvergenceWarning: The max_iter was reached which means the coef_ did not converge\n",
      "  warnings.warn(\"The max_iter was reached which means \"\n"
     ]
    },
    {
     "name": "stdout",
     "output_type": "stream",
     "text": [
      "[472, 572, 672]\n",
      "iterasyon: 2  basarim : 0.4534232249802753\n"
     ]
    },
    {
     "name": "stderr",
     "output_type": "stream",
     "text": [
      "C:\\Users\\hakki.arkangil\\Anaconda3\\lib\\site-packages\\sklearn\\linear_model\\_sag.py:329: ConvergenceWarning: The max_iter was reached which means the coef_ did not converge\n",
      "  warnings.warn(\"The max_iter was reached which means \"\n"
     ]
    },
    {
     "name": "stdout",
     "output_type": "stream",
     "text": [
      "[472, 572, 672, 772]\n",
      "iterasyon: 3  basarim : 0.45702074095331996\n"
     ]
    },
    {
     "name": "stderr",
     "output_type": "stream",
     "text": [
      "C:\\Users\\hakki.arkangil\\Anaconda3\\lib\\site-packages\\sklearn\\linear_model\\_sag.py:329: ConvergenceWarning: The max_iter was reached which means the coef_ did not converge\n",
      "  warnings.warn(\"The max_iter was reached which means \"\n"
     ]
    },
    {
     "name": "stdout",
     "output_type": "stream",
     "text": [
      "[472, 572, 672, 772, 872]\n",
      "iterasyon: 4  basarim : 0.46727947803173603\n"
     ]
    },
    {
     "name": "stderr",
     "output_type": "stream",
     "text": [
      "C:\\Users\\hakki.arkangil\\Anaconda3\\lib\\site-packages\\sklearn\\linear_model\\_sag.py:329: ConvergenceWarning: The max_iter was reached which means the coef_ did not converge\n",
      "  warnings.warn(\"The max_iter was reached which means \"\n"
     ]
    },
    {
     "name": "stdout",
     "output_type": "stream",
     "text": [
      "[472, 572, 672, 772, 872, 972]\n",
      "iterasyon: 5  basarim : 0.49326608466415894\n"
     ]
    },
    {
     "name": "stderr",
     "output_type": "stream",
     "text": [
      "C:\\Users\\hakki.arkangil\\Anaconda3\\lib\\site-packages\\sklearn\\linear_model\\_sag.py:329: ConvergenceWarning: The max_iter was reached which means the coef_ did not converge\n",
      "  warnings.warn(\"The max_iter was reached which means \"\n"
     ]
    },
    {
     "name": "stdout",
     "output_type": "stream",
     "text": [
      "[472, 572, 672, 772, 872, 972, 1072]\n",
      "iterasyon: 6  basarim : 0.5053620883893288\n"
     ]
    },
    {
     "name": "stderr",
     "output_type": "stream",
     "text": [
      "C:\\Users\\hakki.arkangil\\Anaconda3\\lib\\site-packages\\sklearn\\linear_model\\_sag.py:329: ConvergenceWarning: The max_iter was reached which means the coef_ did not converge\n",
      "  warnings.warn(\"The max_iter was reached which means \"\n"
     ]
    },
    {
     "name": "stdout",
     "output_type": "stream",
     "text": [
      "[472, 572, 672, 772, 872, 972, 1072, 1172]\n",
      "iterasyon: 7  basarim : 0.513951515039349\n"
     ]
    },
    {
     "name": "stderr",
     "output_type": "stream",
     "text": [
      "C:\\Users\\hakki.arkangil\\Anaconda3\\lib\\site-packages\\sklearn\\linear_model\\_sag.py:329: ConvergenceWarning: The max_iter was reached which means the coef_ did not converge\n",
      "  warnings.warn(\"The max_iter was reached which means \"\n"
     ]
    },
    {
     "name": "stdout",
     "output_type": "stream",
     "text": [
      "[472, 572, 672, 772, 872, 972, 1072, 1172, 1272]\n",
      "iterasyon: 8  basarim : 0.5283813230194303\n"
     ]
    },
    {
     "name": "stderr",
     "output_type": "stream",
     "text": [
      "C:\\Users\\hakki.arkangil\\Anaconda3\\lib\\site-packages\\sklearn\\linear_model\\_sag.py:329: ConvergenceWarning: The max_iter was reached which means the coef_ did not converge\n",
      "  warnings.warn(\"The max_iter was reached which means \"\n"
     ]
    },
    {
     "name": "stdout",
     "output_type": "stream",
     "text": [
      "[472, 572, 672, 772, 872, 972, 1072, 1172, 1272, 1372]\n",
      "iterasyon: 9  basarim : 0.5419418090030392\n"
     ]
    },
    {
     "name": "stderr",
     "output_type": "stream",
     "text": [
      "C:\\Users\\hakki.arkangil\\Anaconda3\\lib\\site-packages\\sklearn\\linear_model\\_sag.py:329: ConvergenceWarning: The max_iter was reached which means the coef_ did not converge\n",
      "  warnings.warn(\"The max_iter was reached which means \"\n"
     ]
    },
    {
     "name": "stdout",
     "output_type": "stream",
     "text": [
      "[472, 572, 672, 772, 872, 972, 1072, 1172, 1272, 1372, 1472]\n",
      "iterasyon: 10  basarim : 0.5507706747675928\n"
     ]
    },
    {
     "name": "stderr",
     "output_type": "stream",
     "text": [
      "C:\\Users\\hakki.arkangil\\Anaconda3\\lib\\site-packages\\sklearn\\linear_model\\_sag.py:329: ConvergenceWarning: The max_iter was reached which means the coef_ did not converge\n",
      "  warnings.warn(\"The max_iter was reached which means \"\n"
     ]
    },
    {
     "name": "stdout",
     "output_type": "stream",
     "text": [
      "[472, 572, 672, 772, 872, 972, 1072, 1172, 1272, 1372, 1472, 1572]\n",
      "iterasyon: 11  basarim : 0.5575094570637769\n"
     ]
    },
    {
     "name": "stderr",
     "output_type": "stream",
     "text": [
      "C:\\Users\\hakki.arkangil\\Anaconda3\\lib\\site-packages\\sklearn\\linear_model\\_sag.py:329: ConvergenceWarning: The max_iter was reached which means the coef_ did not converge\n",
      "  warnings.warn(\"The max_iter was reached which means \"\n"
     ]
    },
    {
     "name": "stdout",
     "output_type": "stream",
     "text": [
      "[472, 572, 672, 772, 872, 972, 1072, 1172, 1272, 1372, 1472, 1572, 1672]\n",
      "iterasyon: 12  basarim : 0.564925476531799\n"
     ]
    },
    {
     "name": "stderr",
     "output_type": "stream",
     "text": [
      "C:\\Users\\hakki.arkangil\\Anaconda3\\lib\\site-packages\\sklearn\\linear_model\\_sag.py:329: ConvergenceWarning: The max_iter was reached which means the coef_ did not converge\n",
      "  warnings.warn(\"The max_iter was reached which means \"\n"
     ]
    },
    {
     "name": "stdout",
     "output_type": "stream",
     "text": [
      "[472, 572, 672, 772, 872, 972, 1072, 1172, 1272, 1372, 1472, 1572, 1672, 1772]\n",
      "iterasyon: 13  basarim : 0.5696481328156809\n"
     ]
    },
    {
     "name": "stderr",
     "output_type": "stream",
     "text": [
      "C:\\Users\\hakki.arkangil\\Anaconda3\\lib\\site-packages\\sklearn\\linear_model\\_sag.py:329: ConvergenceWarning: The max_iter was reached which means the coef_ did not converge\n",
      "  warnings.warn(\"The max_iter was reached which means \"\n"
     ]
    },
    {
     "name": "stdout",
     "output_type": "stream",
     "text": [
      "[472, 572, 672, 772, 872, 972, 1072, 1172, 1272, 1372, 1472, 1572, 1672, 1772, 1872]\n",
      "iterasyon: 14  basarim : 0.5889073130508227\n"
     ]
    },
    {
     "name": "stderr",
     "output_type": "stream",
     "text": [
      "C:\\Users\\hakki.arkangil\\Anaconda3\\lib\\site-packages\\sklearn\\linear_model\\_sag.py:329: ConvergenceWarning: The max_iter was reached which means the coef_ did not converge\n",
      "  warnings.warn(\"The max_iter was reached which means \"\n"
     ]
    },
    {
     "name": "stdout",
     "output_type": "stream",
     "text": [
      "[472, 572, 672, 772, 872, 972, 1072, 1172, 1272, 1372, 1472, 1572, 1672, 1772, 1872, 1972]\n",
      "iterasyon: 15  basarim : 0.5921834036102768\n"
     ]
    },
    {
     "name": "stderr",
     "output_type": "stream",
     "text": [
      "C:\\Users\\hakki.arkangil\\Anaconda3\\lib\\site-packages\\sklearn\\linear_model\\_sag.py:329: ConvergenceWarning: The max_iter was reached which means the coef_ did not converge\n",
      "  warnings.warn(\"The max_iter was reached which means \"\n"
     ]
    },
    {
     "name": "stdout",
     "output_type": "stream",
     "text": [
      "[472, 572, 672, 772, 872, 972, 1072, 1172, 1272, 1372, 1472, 1572, 1672, 1772, 1872, 1972, 2072]\n",
      "iterasyon: 16  basarim : 0.6076964813352478\n"
     ]
    },
    {
     "name": "stderr",
     "output_type": "stream",
     "text": [
      "C:\\Users\\hakki.arkangil\\Anaconda3\\lib\\site-packages\\sklearn\\linear_model\\_sag.py:329: ConvergenceWarning: The max_iter was reached which means the coef_ did not converge\n",
      "  warnings.warn(\"The max_iter was reached which means \"\n"
     ]
    },
    {
     "name": "stdout",
     "output_type": "stream",
     "text": [
      "[472, 572, 672, 772, 872, 972, 1072, 1172, 1272, 1372, 1472, 1572, 1672, 1772, 1872, 1972, 2072, 2172]\n",
      "iterasyon: 17  basarim : 0.621365782203632\n"
     ]
    },
    {
     "name": "stderr",
     "output_type": "stream",
     "text": [
      "C:\\Users\\hakki.arkangil\\Anaconda3\\lib\\site-packages\\sklearn\\linear_model\\_sag.py:329: ConvergenceWarning: The max_iter was reached which means the coef_ did not converge\n",
      "  warnings.warn(\"The max_iter was reached which means \"\n"
     ]
    },
    {
     "name": "stdout",
     "output_type": "stream",
     "text": [
      "[472, 572, 672, 772, 872, 972, 1072, 1172, 1272, 1372, 1472, 1572, 1672, 1772, 1872, 1972, 2072, 2172, 2272]\n",
      "iterasyon: 18  basarim : 0.6273764461259325\n"
     ]
    },
    {
     "name": "stderr",
     "output_type": "stream",
     "text": [
      "C:\\Users\\hakki.arkangil\\Anaconda3\\lib\\site-packages\\sklearn\\linear_model\\_sag.py:329: ConvergenceWarning: The max_iter was reached which means the coef_ did not converge\n",
      "  warnings.warn(\"The max_iter was reached which means \"\n"
     ]
    },
    {
     "name": "stdout",
     "output_type": "stream",
     "text": [
      "[472, 572, 672, 772, 872, 972, 1072, 1172, 1272, 1372, 1472, 1572, 1672, 1772, 1872, 1972, 2072, 2172, 2272, 2372]\n",
      "iterasyon: 19  basarim : 0.6359786731735569\n",
      "[472, 572, 672, 772, 872, 972, 1072, 1172, 1272, 1372, 1472, 1572, 1672, 1772, 1872, 1972, 2072, 2172, 2272, 2372, 2472]\n",
      "iterasyon: 20  basarim : 0.6375838849790021\n"
     ]
    },
    {
     "name": "stderr",
     "output_type": "stream",
     "text": [
      "C:\\Users\\hakki.arkangil\\Anaconda3\\lib\\site-packages\\sklearn\\linear_model\\_sag.py:329: ConvergenceWarning: The max_iter was reached which means the coef_ did not converge\n",
      "  warnings.warn(\"The max_iter was reached which means \"\n"
     ]
    }
   ],
   "source": [
    "## cosine similiarity - eren\n",
    "\n",
    "sum_arr = np.sum(X_train_initial.toarray(), axis=0)\n",
    "sim_arr = sum_arr / np.sqrt(np.sum(sum_arr**2))\n",
    "\n",
    "\n",
    "result = active_training_similarity(X_train_initial, y_train_initial, X_train_rest, y_train_rest, lr, sim_arr, batch_size=batch)\n",
    "\n",
    "with open('active_dissim' + str(rand_state) + '_' + str(batch) + '.pickle', 'wb') as f:\n",
    "    # Pickle the 'data' dictionary using the highest protocol available.\n",
    "    pickle.dump(result, f)"
   ]
  },
  {
   "cell_type": "code",
   "execution_count": 49,
   "metadata": {},
   "outputs": [],
   "source": [
    "###^result shows up after training completed time compx: 26dk 22sn"
   ]
  },
  {
   "cell_type": "code",
   "execution_count": 50,
   "metadata": {},
   "outputs": [
    {
     "data": {
      "text/plain": [
       "[<matplotlib.lines.Line2D at 0x1a1be29c1c0>]"
      ]
     },
     "execution_count": 50,
     "metadata": {},
     "output_type": "execute_result"
    },
    {
     "data": {
      "image/png": "[encoded data removed]",
      "text/plain": [
       "<Figure size 432x288 with 1 Axes>"
      ]
     },
     "metadata": {
      "needs_background": "light"
     },
     "output_type": "display_data"
    }
   ],
   "source": [
    "plt.plot(result[1], result[0])\n"
   ]
  },
  {
   "cell_type": "code",
   "execution_count": 51,
   "metadata": {},
   "outputs": [],
   "source": [
    "def unk(probs):\n",
    "    unc=1 - probs.max(axis=1)\n",
    "    return unc\n",
    "\n",
    "\n",
    "# unk_samp= unk(probs)\n",
    "# indices = np.argsort(unk_samp)[::-1]\n",
    "# unk_samp[indices[0]]"
   ]
  },
  {
   "cell_type": "code",
   "execution_count": 52,
   "metadata": {},
   "outputs": [],
   "source": [
    "# enum_unc.sort(key=lambda x: x[0], reverse=True)\n"
   ]
  },
  {
   "cell_type": "code",
   "execution_count": 53,
   "metadata": {},
   "outputs": [],
   "source": [
    "# uncertainlerden maxini al"
   ]
  },
  {
   "cell_type": "code",
   "execution_count": 54,
   "metadata": {},
   "outputs": [],
   "source": [
    "def active_training_unc(X_init, y_init, X_rest, y_rest, model, batch_size=100):\n",
    "    scores = []\n",
    "    train_size = []\n",
    "\n",
    "    model.fit(X_init, y_init)\n",
    "    y_pred = model.predict(X_test)\n",
    "\n",
    "    scores.append(f1_score(y_test, y_pred, average='weighted'))\n",
    "    train_size.append(X_init.shape[0])\n",
    "    count=0\n",
    "    \n",
    "    for i in range(20):\n",
    "    #while X_rest.shape[0] > 0:\n",
    "\n",
    "        probs = model.predict_proba(X_rest)\n",
    "\n",
    "        unk_samp= unk(probs)\n",
    "        indices = np.argsort(unk_samp)[::-1]\n",
    "        unk_samp[indices[0]]\n",
    "        enum_unc=[]\n",
    "        for i,x in enumerate(unk_samp):\n",
    "        #print(i,x)\n",
    "            enum_unc.append((x, i))\n",
    "        \n",
    "        enum_unc.sort(key=lambda x: x[0], reverse=True)\n",
    "\n",
    "\n",
    "        size = batch_size if X_rest.shape[0] >= batch_size else X_rest.shape[0]\n",
    "        #cut_list = list(range(size))\n",
    "\n",
    "        cut_list = [x[1] for x in enum_unc[0:size]]\n",
    "\n",
    "        cut_set = set(cut_list)\n",
    "\n",
    "        #rest_list = list(range(size, X_rest.shape[0]))\n",
    "\n",
    "        rest_list = list(range(X_rest.shape[0]))\n",
    "\n",
    "        rest_list = [x for x in rest_list if x not in cut_set]\n",
    "\n",
    "        add_x = X_rest[cut_list, :]\n",
    "        #add_y = y_rest[0:size]\n",
    "        add_y = [y_rest[i] for i in cut_list]\n",
    "        X_rest = X_rest[rest_list, :]\n",
    "        #y_rest = y_rest[size:]\n",
    "        y_rest = [y_rest[i] for i in rest_list]\n",
    "        X_init = sp.vstack((X_init, add_x))\n",
    "        y_init = np.concatenate((y_init, add_y))\n",
    "\n",
    "        lr.fit(X_init, y_init)\n",
    "        y_pred = lr.predict(X_test)\n",
    "\n",
    "\n",
    "        scores.append(f1_score(y_test, y_pred, average='weighted'))\n",
    "        train_size.append(X_init.shape[0])\n",
    "\n",
    "        print(train_size)\n",
    "        print(\"iterasyon: \"+ str(count+1) + \" \" + \" basarim : \"+ str(scores[count]))\n",
    "        count += 1\n",
    "        \n",
    "    return scores, train_size\n"
   ]
  },
  {
   "cell_type": "code",
   "execution_count": 60,
   "metadata": {},
   "outputs": [
    {
     "name": "stderr",
     "output_type": "stream",
     "text": [
      "C:\\Users\\hakki.arkangil\\Anaconda3\\lib\\site-packages\\sklearn\\linear_model\\_sag.py:329: ConvergenceWarning: The max_iter was reached which means the coef_ did not converge\n",
      "  warnings.warn(\"The max_iter was reached which means \"\n"
     ]
    },
    {
     "name": "stdout",
     "output_type": "stream",
     "text": [
      "[472, 572]\n",
      "iterasyon: 1  basarim : 0.651257384872417\n",
      "[472, 572, 672]\n",
      "iterasyon: 2  basarim : 0.625492119796535\n",
      "[472, 572, 672, 772]\n",
      "iterasyon: 3  basarim : 0.6254717018764164\n",
      "[472, 572, 672, 772, 872]\n",
      "iterasyon: 4  basarim : 0.6442086063065702\n",
      "[472, 572, 672, 772, 872, 972]\n",
      "iterasyon: 5  basarim : 0.6601236244057682\n",
      "[472, 572, 672, 772, 872, 972, 1072]\n",
      "iterasyon: 6  basarim : 0.6709171712069837\n",
      "[472, 572, 672, 772, 872, 972, 1072, 1172]\n",
      "iterasyon: 7  basarim : 0.6869516469277599\n",
      "[472, 572, 672, 772, 872, 972, 1072, 1172, 1272]\n",
      "iterasyon: 8  basarim : 0.7026524749362899\n",
      "[472, 572, 672, 772, 872, 972, 1072, 1172, 1272, 1372]\n",
      "iterasyon: 9  basarim : 0.7273623721814658\n",
      "[472, 572, 672, 772, 872, 972, 1072, 1172, 1272, 1372, 1472]\n",
      "iterasyon: 10  basarim : 0.7365696932128725\n",
      "[472, 572, 672, 772, 872, 972, 1072, 1172, 1272, 1372, 1472, 1572]\n",
      "iterasyon: 11  basarim : 0.750512424311385\n",
      "[472, 572, 672, 772, 872, 972, 1072, 1172, 1272, 1372, 1472, 1572, 1672]\n",
      "iterasyon: 12  basarim : 0.7497535104295342\n",
      "[472, 572, 672, 772, 872, 972, 1072, 1172, 1272, 1372, 1472, 1572, 1672, 1772]\n",
      "iterasyon: 13  basarim : 0.7557616673634941\n",
      "[472, 572, 672, 772, 872, 972, 1072, 1172, 1272, 1372, 1472, 1572, 1672, 1772, 1872]\n",
      "iterasyon: 14  basarim : 0.7686247382224646\n",
      "[472, 572, 672, 772, 872, 972, 1072, 1172, 1272, 1372, 1472, 1572, 1672, 1772, 1872, 1972]\n",
      "iterasyon: 15  basarim : 0.7793179913256736\n",
      "[472, 572, 672, 772, 872, 972, 1072, 1172, 1272, 1372, 1472, 1572, 1672, 1772, 1872, 1972, 2072]\n",
      "iterasyon: 16  basarim : 0.7909907429101491\n",
      "[472, 572, 672, 772, 872, 972, 1072, 1172, 1272, 1372, 1472, 1572, 1672, 1772, 1872, 1972, 2072, 2172]\n",
      "iterasyon: 17  basarim : 0.7930494027500724\n",
      "[472, 572, 672, 772, 872, 972, 1072, 1172, 1272, 1372, 1472, 1572, 1672, 1772, 1872, 1972, 2072, 2172, 2272]\n",
      "iterasyon: 18  basarim : 0.7975717794059036\n",
      "[472, 572, 672, 772, 872, 972, 1072, 1172, 1272, 1372, 1472, 1572, 1672, 1772, 1872, 1972, 2072, 2172, 2272, 2372]\n",
      "iterasyon: 19  basarim : 0.8104831560978202\n",
      "[472, 572, 672, 772, 872, 972, 1072, 1172, 1272, 1372, 1472, 1572, 1672, 1772, 1872, 1972, 2072, 2172, 2272, 2372, 2472]\n",
      "iterasyon: 20  basarim : 0.8115152969778402\n"
     ]
    }
   ],
   "source": [
    "### uncertainty sampling - eren\n",
    "# \n",
    "batch=100\n",
    "\n",
    "result2 = active_training_unc(X_train_initial, y_train_initial, X_train_rest, y_train_rest, lr,batch_size=batch)\n",
    "\n",
    "with open('active_dissim' + str(rand_state) + '_' + str(batch) + '.pickle', 'wb') as f:\n",
    "    # Pickle the 'data' dictionary using the highest protocol available.\n",
    "    pickle.dump(result, f)"
   ]
  },
  {
   "cell_type": "markdown",
   "metadata": {},
   "source": [
    "# Results of unc"
   ]
  },
  {
   "cell_type": "code",
   "execution_count": 61,
   "metadata": {},
   "outputs": [
    {
     "data": {
      "text/plain": [
       "[<matplotlib.lines.Line2D at 0x1a1bd74e250>]"
      ]
     },
     "execution_count": 61,
     "metadata": {},
     "output_type": "execute_result"
    },
    {
     "data": {
      "image/png": "[encoded data removed]",
      "text/plain": [
       "<Figure size 432x288 with 1 Axes>"
      ]
     },
     "metadata": {
      "needs_background": "light"
     },
     "output_type": "display_data"
    }
   ],
   "source": [
    " plt.plot(result2[1], result2[0])   ##time complexiti : 16.2 sn"
   ]
  },
  {
   "cell_type": "code",
   "execution_count": null,
   "metadata": {},
   "outputs": [],
   "source": []
  },
  {
   "cell_type": "code",
   "execution_count": 62,
   "metadata": {},
   "outputs": [
    {
     "name": "stderr",
     "output_type": "stream",
     "text": [
      "C:\\Users\\hakki.arkangil\\Anaconda3\\lib\\site-packages\\sklearn\\utils\\validation.py:68: FutureWarning: Pass subset=all as keyword args. From version 0.25 passing these as positional arguments will result in an error\n",
      "  warnings.warn(\"Pass {} as keyword args. From version 0.25 \"\n"
     ]
    },
    {
     "name": "stdout",
     "output_type": "stream",
     "text": [
      "[472, 572]\n",
      "iterasyon: 1  basarim : 0.37278756424150394\n",
      "[472, 572, 672]\n",
      "iterasyon: 2  basarim : 0.41255980067915354\n",
      "[472, 572, 672, 772]\n",
      "iterasyon: 3  basarim : 0.42751348692337454\n",
      "[472, 572, 672, 772, 872]\n",
      "iterasyon: 4  basarim : 0.44978970172986865\n",
      "[472, 572, 672, 772, 872, 972]\n",
      "iterasyon: 5  basarim : 0.48662030396372774\n",
      "[472, 572, 672, 772, 872, 972, 1072]\n",
      "iterasyon: 6  basarim : 0.49904283295119495\n",
      "[472, 572, 672, 772, 872, 972, 1072, 1172]\n",
      "iterasyon: 7  basarim : 0.5024042060093933\n",
      "[472, 572, 672, 772, 872, 972, 1072, 1172, 1272]\n",
      "iterasyon: 8  basarim : 0.5201703576325117\n",
      "[472, 572, 672, 772, 872, 972, 1072, 1172, 1272, 1372]\n",
      "iterasyon: 9  basarim : 0.5357451025572474\n",
      "[472, 572, 672, 772, 872, 972, 1072, 1172, 1272, 1372, 1472]\n",
      "iterasyon: 10  basarim : 0.5447169444977595\n",
      "[472, 572, 672, 772, 872, 972, 1072, 1172, 1272, 1372, 1472, 1572]\n",
      "iterasyon: 11  basarim : 0.5696131336373889\n",
      "[472, 572, 672, 772, 872, 972, 1072, 1172, 1272, 1372, 1472, 1572, 1672]\n",
      "iterasyon: 12  basarim : 0.5924325025624431\n",
      "[472, 572, 672, 772, 872, 972, 1072, 1172, 1272, 1372, 1472, 1572, 1672, 1772]\n",
      "iterasyon: 13  basarim : 0.6076177323538271\n",
      "[472, 572, 672, 772, 872, 972, 1072, 1172, 1272, 1372, 1472, 1572, 1672, 1772, 1872]\n",
      "iterasyon: 14  basarim : 0.6195122588312517\n",
      "[472, 572, 672, 772, 872, 972, 1072, 1172, 1272, 1372, 1472, 1572, 1672, 1772, 1872, 1972]\n",
      "iterasyon: 15  basarim : 0.6264721303752725\n",
      "[472, 572, 672, 772, 872, 972, 1072, 1172, 1272, 1372, 1472, 1572, 1672, 1772, 1872, 1972, 2072]\n",
      "iterasyon: 16  basarim : 0.6362315917931104\n",
      "[472, 572, 672, 772, 872, 972, 1072, 1172, 1272, 1372, 1472, 1572, 1672, 1772, 1872, 1972, 2072, 2172]\n",
      "iterasyon: 17  basarim : 0.6384534934080921\n",
      "[472, 572, 672, 772, 872, 972, 1072, 1172, 1272, 1372, 1472, 1572, 1672, 1772, 1872, 1972, 2072, 2172, 2272]\n",
      "iterasyon: 18  basarim : 0.6441528117887967\n",
      "[472, 572, 672, 772, 872, 972, 1072, 1172, 1272, 1372, 1472, 1572, 1672, 1772, 1872, 1972, 2072, 2172, 2272, 2372]\n",
      "iterasyon: 19  basarim : 0.65479655971007\n",
      "[472, 572, 672, 772, 872, 972, 1072, 1172, 1272, 1372, 1472, 1572, 1672, 1772, 1872, 1972, 2072, 2172, 2272, 2372, 2472]\n",
      "iterasyon: 20  basarim : 0.6583911945537965\n"
     ]
    }
   ],
   "source": [
    "##random sampling -can\n",
    "X, y = fetch_20newsgroups_vectorized('all', return_X_y=True, normalize=True)\n",
    "X_train, X_test, y_train, y_test = train_test_split(X, y, random_state=rand_state, stratify=y, test_size=0.1)\n",
    "X_train_rest, X_train_initial, y_train_rest, y_train_initial = train_test_split(X_train, y_train, random_state=rand_state, stratify=y_train, test_size=0.025/0.9)\n",
    "\n",
    "lr = LogisticRegression(solver='sag',\n",
    "                                multi_class='multinomial',\n",
    "                                penalty='l2',\n",
    "                                tol=0.005,\n",
    "                                max_iter=50,\n",
    "                                random_state=42,\n",
    "                                C=2,\n",
    "                                warm_start=True\n",
    "                                )\n",
    "\n",
    "\n",
    "result3 = standard_training(X_train_initial, y_train_initial, X_train_rest, y_train_rest, lr, batch_size=batch)\n",
    "\n",
    "with open('standard_' + str(rand_state) + '_' + str(batch) + '.pickle', 'wb') as f:\n",
    "    # Pickle the 'data' dictionary using the highest protocol available.\n",
    "    pickle.dump(result, f)"
   ]
  },
  {
   "cell_type": "code",
   "execution_count": 63,
   "metadata": {},
   "outputs": [
    {
     "data": {
      "text/plain": [
       "[<matplotlib.lines.Line2D at 0x1a1bd76f3d0>]"
      ]
     },
     "execution_count": 63,
     "metadata": {},
     "output_type": "execute_result"
    },
    {
     "data": {
      "image/png": "[encoded data removed]",
      "text/plain": [
       "<Figure size 432x288 with 1 Axes>"
      ]
     },
     "metadata": {
      "needs_background": "light"
     },
     "output_type": "display_data"
    }
   ],
   "source": [
    "plt.plot(result3[1], result3[0]) ##time complexity 13.4 sn"
   ]
  },
  {
   "cell_type": "code",
   "execution_count": 64,
   "metadata": {},
   "outputs": [
    {
     "name": "stderr",
     "output_type": "stream",
     "text": [
      "C:\\Users\\hakki.arkangil\\Anaconda3\\lib\\site-packages\\sklearn\\utils\\validation.py:68: FutureWarning: Pass subset=all as keyword args. From version 0.25 passing these as positional arguments will result in an error\n",
      "  warnings.warn(\"Pass {} as keyword args. From version 0.25 \"\n"
     ]
    },
    {
     "name": "stdout",
     "output_type": "stream",
     "text": [
      "[472, 572]\n",
      "iterasyon: 1  basarim : 0.47689045379291634\n",
      "[472, 572, 672]\n",
      "iterasyon: 2  basarim : 0.5173915029457109\n",
      "[472, 572, 672, 772]\n",
      "iterasyon: 3  basarim : 0.5365736624007621\n",
      "[472, 572, 672, 772, 872]\n",
      "iterasyon: 4  basarim : 0.5762413504482103\n",
      "[472, 572, 672, 772, 872, 972]\n",
      "iterasyon: 5  basarim : 0.5999732055000183\n",
      "[472, 572, 672, 772, 872, 972, 1072]\n",
      "iterasyon: 6  basarim : 0.6296517170770004\n",
      "[472, 572, 672, 772, 872, 972, 1072, 1172]\n",
      "iterasyon: 7  basarim : 0.6393521928246684\n",
      "[472, 572, 672, 772, 872, 972, 1072, 1172, 1272]\n",
      "iterasyon: 8  basarim : 0.6567319095524733\n",
      "[472, 572, 672, 772, 872, 972, 1072, 1172, 1272, 1372]\n",
      "iterasyon: 9  basarim : 0.6704994467894874\n",
      "[472, 572, 672, 772, 872, 972, 1072, 1172, 1272, 1372, 1472]\n",
      "iterasyon: 10  basarim : 0.6921637183123249\n",
      "[472, 572, 672, 772, 872, 972, 1072, 1172, 1272, 1372, 1472, 1572]\n",
      "iterasyon: 11  basarim : 0.6985861790149526\n",
      "[472, 572, 672, 772, 872, 972, 1072, 1172, 1272, 1372, 1472, 1572, 1672]\n",
      "iterasyon: 12  basarim : 0.7171038503791656\n",
      "[472, 572, 672, 772, 872, 972, 1072, 1172, 1272, 1372, 1472, 1572, 1672, 1772]\n",
      "iterasyon: 13  basarim : 0.7307108075955653\n",
      "[472, 572, 672, 772, 872, 972, 1072, 1172, 1272, 1372, 1472, 1572, 1672, 1772, 1872]\n",
      "iterasyon: 14  basarim : 0.7345958213969853\n",
      "[472, 572, 672, 772, 872, 972, 1072, 1172, 1272, 1372, 1472, 1572, 1672, 1772, 1872, 1972]\n",
      "iterasyon: 15  basarim : 0.7423959604337361\n",
      "[472, 572, 672, 772, 872, 972, 1072, 1172, 1272, 1372, 1472, 1572, 1672, 1772, 1872, 1972, 2072]\n",
      "iterasyon: 16  basarim : 0.7533777462351084\n",
      "[472, 572, 672, 772, 872, 972, 1072, 1172, 1272, 1372, 1472, 1572, 1672, 1772, 1872, 1972, 2072, 2172]\n",
      "iterasyon: 17  basarim : 0.7558162890490714\n",
      "[472, 572, 672, 772, 872, 972, 1072, 1172, 1272, 1372, 1472, 1572, 1672, 1772, 1872, 1972, 2072, 2172, 2272]\n",
      "iterasyon: 18  basarim : 0.7622258485131153\n",
      "[472, 572, 672, 772, 872, 972, 1072, 1172, 1272, 1372, 1472, 1572, 1672, 1772, 1872, 1972, 2072, 2172, 2272, 2372]\n",
      "iterasyon: 19  basarim : 0.7609129183256873\n",
      "[472, 572, 672, 772, 872, 972, 1072, 1172, 1272, 1372, 1472, 1572, 1672, 1772, 1872, 1972, 2072, 2172, 2272, 2372, 2472]\n",
      "iterasyon: 20  basarim : 0.7683184255330265\n"
     ]
    }
   ],
   "source": [
    "## entropy sampling - can \n",
    "X, y = fetch_20newsgroups_vectorized('all', return_X_y=True, normalize=True)\n",
    "X_train, X_test, y_train, y_test = train_test_split(X, y, random_state=rand_state, stratify=y, test_size=0.1)\n",
    "X_train_rest, X_train_initial, y_train_rest, y_train_initial = train_test_split(X_train, y_train, random_state=rand_state, stratify=y_train, test_size=0.025/0.9)\n",
    "\n",
    "lr = LogisticRegression(solver='sag',\n",
    "                                multi_class='multinomial',\n",
    "                                penalty='l2',\n",
    "                                tol=0.005,\n",
    "                                max_iter=50,\n",
    "                                random_state=42,\n",
    "                                C=100,\n",
    "                                warm_start=True\n",
    "                                )\n",
    "\n",
    "\n",
    "result4 = active_training(X_train_initial, y_train_initial, X_train_rest, y_train_rest, lr, batch_size=batch)\n",
    "\n",
    "with open('active_' + str(rand_state) + '_' + str(batch) + '.pickle', 'wb') as f:\n",
    "    # Pickle the 'data' dictionary using the highest protocol available.\n",
    "    pickle.dump(result, f)\n",
    "\n",
    "\n",
    "#sim_arr = np.mean(X_train_initial.toarray(), axis=0) "
   ]
  },
  {
   "cell_type": "code",
   "execution_count": 65,
   "metadata": {},
   "outputs": [
    {
     "data": {
      "text/plain": [
       "[<matplotlib.lines.Line2D at 0x1a1bd456040>]"
      ]
     },
     "execution_count": 65,
     "metadata": {},
     "output_type": "execute_result"
    },
    {
     "data": {
      "image/png": "[encoded data removed]",
      "text/plain": [
       "<Figure size 432x288 with 1 Axes>"
      ]
     },
     "metadata": {
      "needs_background": "light"
     },
     "output_type": "display_data"
    }
   ],
   "source": [
    "plt.plot(result4[1], result4[0]) #time complexity 23.4 sn"
   ]
  },
  {
   "cell_type": "code",
   "execution_count": 74,
   "metadata": {},
   "outputs": [
    {
     "data": {
      "image/png": "[encoded data removed]",
      "text/plain": [
       "<Figure size 432x288 with 1 Axes>"
      ]
     },
     "metadata": {
      "needs_background": "light"
     },
     "output_type": "display_data"
    }
   ],
   "source": [
    "plt.plot(result2[1], result2[0], 'r',label=\"Uncertainity sampling\") # plotting t, a separately \n",
    "plt.plot(result3[1], result3[0], 'b',label=\"Random Sampling\") # plotting t, b separately \n",
    "plt.plot(result4[1], result4[0], 'g',label=\"Entropy Samplig\") # plotting t, c separately \n",
    "plt.title(\"Comprasion of queries\")\n",
    "plt.ylabel(\"Accuracy of Query Strategy\")\n",
    "plt.xlabel(\"Labeled Data Size\")\n",
    "plt.legend(loc='best')\n",
    "plt.show()\n"
   ]
  },
  {
   "cell_type": "code",
   "execution_count": null,
   "metadata": {},
   "outputs": [],
   "source": []
  }
 ],
 "metadata": {
  "kernelspec": {
   "display_name": "Python 3",
   "language": "python",
   "name": "python3"
  },
  "language_info": {
   "codemirror_mode": {
    "name": "ipython",
    "version": 3
   },
   "file_extension": ".py",
   "mimetype": "text/x-python",
   "name": "python",
   "nbconvert_exporter": "python",
   "pygments_lexer": "ipython3",
   "version": "3.8.3"
  }
 },
 "nbformat": 4,
 "nbformat_minor": 4
}
